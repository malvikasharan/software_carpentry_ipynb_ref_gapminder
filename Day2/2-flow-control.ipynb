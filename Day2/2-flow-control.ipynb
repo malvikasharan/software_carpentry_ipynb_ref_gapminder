{
 "cells": [
  {
   "cell_type": "markdown",
   "metadata": {},
   "source": [
    "# Python session - 2\n",
    "\n",
    "## Flow Control statements\n",
    "\n",
    "Flow control statements allows Python to take a decision and do different things depending on different situations using `if` or `else` statements or `for` loops."
   ]
  },
  {
   "cell_type": "markdown",
   "metadata": {},
   "source": [
    "## if statements\n",
    "\n",
    "A few quick examples, before we go into the theory."
   ]
  },
  {
   "cell_type": "code",
   "execution_count": null,
   "metadata": {
    "collapsed": false
   },
   "outputs": [],
   "source": [
    "# Indentation and semicolon\n",
    "\n",
    "temperature = 26\n",
    "\n",
    "if temperature < 50:\n",
    "    '' #indentation has a meaning, part of condition\n",
    "    \n",
    "print(\"This is not too hot!\") #now this is not connected to the if statement"
   ]
  },
  {
   "cell_type": "markdown",
   "metadata": {},
   "source": [
    "## if/else statements"
   ]
  },
  {
   "cell_type": "code",
   "execution_count": null,
   "metadata": {
    "collapsed": false
   },
   "outputs": [],
   "source": [
    "# Check if the temperature is > 25 (degrees)\n",
    "temperature = 26\n",
    "\n",
    "if temperature < 50:\n",
    "    ''\n",
    "    # do something\n",
    "    \n",
    "if temperature > 50:\n",
    "    ''\n",
    "    #print(temperature)\n",
    "else:\n",
    "    ''\n",
    "    #print(temperature)"
   ]
  },
  {
   "cell_type": "code",
   "execution_count": null,
   "metadata": {
    "collapsed": true
   },
   "outputs": [],
   "source": [
    "# Change value of the temperature and run it again"
   ]
  },
  {
   "cell_type": "code",
   "execution_count": null,
   "metadata": {
    "collapsed": false
   },
   "outputs": [],
   "source": [
    "temperature = 20\n",
    "if ...:\n",
    "    ''## do something\n",
    "else:\n",
    "    ''## do something else"
   ]
  },
  {
   "cell_type": "markdown",
   "metadata": {
    "collapsed": false
   },
   "source": [
    "## For loop\n",
    "\n",
    "The biggest motivation for researches to learn a programming language is the opportunity to automate repetitive tasks and analyses.\n",
    "\n",
    "For loops define a set of steps that will be carried out for all items in a sequence. The items in the sequence will be taken one-at-a-time, and the loop performed, until there are no more items to process."
   ]
  },
  {
   "cell_type": "code",
   "execution_count": null,
   "metadata": {
    "collapsed": true
   },
   "outputs": [],
   "source": [
    "seasons = ['Spring', 'Summer', 'Autumn', 'Winter']\n",
    "# for season in ['Spring', 'Summer', 'Autumn', 'Winter']\n",
    "# print season entries one by one"
   ]
  },
  {
   "cell_type": "code",
   "execution_count": null,
   "metadata": {
    "collapsed": true
   },
   "outputs": [],
   "source": [
    "# for each_season in seasons:\n",
    "#     print(each_season.upper())\n",
    "# print(\"Done!\")"
   ]
  },
  {
   "cell_type": "markdown",
   "metadata": {},
   "source": [
    "## Conditionals - if, elif, else\n",
    "\n",
    "Looping allows you to perform a common set of operations on multiple pieces of data very quickly. But what if you want to treat the pieces differently, depending on some property or other of the objects?\n",
    "\n",
    "This is the other central part of programming: testing for certain circumstances and changing the treatment of pieces of data accordingly. \n",
    "\n",
    "It is known as flow control, as you are controlling the flow of data through your script of operations."
   ]
  },
  {
   "cell_type": "code",
   "execution_count": null,
   "metadata": {
    "collapsed": false
   },
   "outputs": [],
   "source": [
    "temperature = 30\n",
    "\n",
    "if temperature > 25 and temperature < 35:\n",
    "    print('This is tolerable')\n",
    "elif temperature < 20:\n",
    "    print('Winter is coming')\n",
    "elif temperature == 20:\n",
    "    print('Temperature is 20')\n",
    "else:\n",
    "    print('this is not a temperature')"
   ]
  },
  {
   "cell_type": "markdown",
   "metadata": {},
   "source": [
    "## Combine For loops and if/elif/else statements"
   ]
  },
  {
   "cell_type": "code",
   "execution_count": null,
   "metadata": {
    "collapsed": true
   },
   "outputs": [],
   "source": [
    "seasons = ['Spring', 'Summer', 'Autumn', 'Winter']\n",
    "\n",
    "# create a multi condition is/elif/else loop for the items in the list 'seasons'"
   ]
  },
  {
   "cell_type": "markdown",
   "metadata": {},
   "source": [
    "## Exercise - 1\n",
    "\n",
    "We can interact with the commandline/terminal using `input()`, try it out by giving a value to the temperature on the commandline.\n"
   ]
  },
  {
   "cell_type": "code",
   "execution_count": null,
   "metadata": {
    "collapsed": false
   },
   "outputs": [],
   "source": [
    "temperature = input()"
   ]
  },
  {
   "cell_type": "code",
   "execution_count": null,
   "metadata": {
    "collapsed": true
   },
   "outputs": [],
   "source": [
    "# try the codes from In[11] using input() options"
   ]
  },
  {
   "cell_type": "markdown",
   "metadata": {},
   "source": [
    "## Adding even more conditions \n",
    "\n",
    "### Conditions inside conditions\n",
    "\n",
    "#### Option - 1: \n",
    "not so elegant nested if statements"
   ]
  },
  {
   "cell_type": "code",
   "execution_count": null,
   "metadata": {
    "collapsed": true
   },
   "outputs": [],
   "source": [
    "if ...:\n",
    "    if ...:\n",
    "        ...\n",
    "    elif ...:\n",
    "        ...\n",
    "    else ...:\n",
    "        ...\n",
    "elif ...:\n",
    "    if ...:\n",
    "        ...\n",
    "    elif ...:\n",
    "        ...\n",
    "    else ...:\n",
    "        ...\n",
    "elif ...:\n",
    "    ...\n",
    "else:\n",
    "    ..."
   ]
  },
  {
   "cell_type": "markdown",
   "metadata": {},
   "source": [
    "#### Option - 2: \n",
    "connecting conditions by Boolean (and, or, not)"
   ]
  },
  {
   "cell_type": "code",
   "execution_count": null,
   "metadata": {
    "collapsed": true
   },
   "outputs": [],
   "source": [
    "if ... and ...:\n",
    "    ...\n",
    "elif ...:\n",
    "    ...\n",
    "else:\n",
    "    ...\n"
   ]
  },
  {
   "cell_type": "code",
   "execution_count": null,
   "metadata": {
    "collapsed": false
   },
   "outputs": [],
   "source": [
    "# Give temperature a value < 25 and check what happens if you replace 'and' with 'or'\n",
    "# Note: English's *or* and Python's *or* are not always same.\n",
    "\n",
    "temperature = 30\n",
    "\n",
    "if temperature > 25 and temperature < 35:\n",
    "    '' ##do something when both the conditions are matched\n",
    "\n",
    "if temperature > 25 or temperature <= 35:\n",
    "    '' ##do something when one of the two conditions are matched"
   ]
  },
  {
   "cell_type": "markdown",
   "metadata": {},
   "source": [
    "## Exercise - 2\n"
   ]
  },
  {
   "cell_type": "code",
   "execution_count": null,
   "metadata": {
    "collapsed": true
   },
   "outputs": [],
   "source": [
    "# Check if a variable or data type for example, a list (my_list) exists (not empty)\n"
   ]
  },
  {
   "cell_type": "code",
   "execution_count": null,
   "metadata": {
    "collapsed": true
   },
   "outputs": [],
   "source": [
    "# Check if an item exists in a string (hint: look for my_item in my_string)...\n",
    "# else print \"{} does not contain {}\".format(my_string, my_item)\n",
    "\n",
    "my_string = \"Whether you're new to programming or an experienced developer, it's easy to learn and use Python.\"\n",
    "my_item = \"Python\""
   ]
  },
  {
   "cell_type": "code",
   "execution_count": null,
   "metadata": {
    "collapsed": true
   },
   "outputs": [],
   "source": [
    "# Check if an item 'does not' exist in a string (hint: look for my_item in my_string)...\n",
    "# else print \"{} contains {}\".format(my_string, my_item)\n",
    "\n",
    "my_string = \"Whether you're new to programming or an experienced developer, it's easy to learn and use Python.\"\n",
    "my_item = \"Perl\""
   ]
  },
  {
   "cell_type": "markdown",
   "metadata": {},
   "source": [
    "## Exercise - 3"
   ]
  },
  {
   "cell_type": "code",
   "execution_count": null,
   "metadata": {
    "collapsed": true
   },
   "outputs": [],
   "source": [
    "# Given a list of items (shopping) check if a certain item (my_item) exists\n",
    "# else add that item to the list\n",
    "\n",
    "shopping = ['bread', 'potatoes', 'eggs', 'flour', 'rubber duck', 'pizza', 'milk']\n",
    "my_item = \"cheese\""
   ]
  },
  {
   "cell_type": "markdown",
   "metadata": {},
   "source": [
    "## Exercise - 4"
   ]
  },
  {
   "cell_type": "code",
   "execution_count": null,
   "metadata": {
    "collapsed": false
   },
   "outputs": [],
   "source": [
    "shopping = ['bread', 'potatoes', \n",
    "            'eggs', 'flour', \n",
    "            'rubber duck', 'pizza', \n",
    "            'milk']\n",
    "\n",
    "# print(shopping[0])\n",
    "# print(shopping[1])\n",
    "# print(shopping[2])\n",
    "# print(shopping[3])\n",
    "\n",
    "# using for loop iterate through the list and print each item\n",
    "\n",
    "for item_could_be_anything in shopping:\n",
    "    print(item_could_be_anything)"
   ]
  },
  {
   "cell_type": "markdown",
   "metadata": {},
   "source": [
    "## Exercise - 5"
   ]
  },
  {
   "cell_type": "code",
   "execution_count": null,
   "metadata": {
    "collapsed": false
   },
   "outputs": [],
   "source": [
    "# use range to create a list of values\n",
    "\n",
    "range_list = range(1,5)\n",
    "# print(range_list)\n",
    "# print(list(range_list))\n",
    "\n",
    "# range generates a list of numbers, which is used to iterate over with for loops \n",
    "# to perform certain action X number of times.\n",
    "\n",
    "# do some calculation with each entry (in range_list) and print it"
   ]
  },
  {
   "cell_type": "markdown",
   "metadata": {},
   "source": [
    "## Exercise - 6"
   ]
  },
  {
   "cell_type": "code",
   "execution_count": null,
   "metadata": {
    "collapsed": false
   },
   "outputs": [],
   "source": [
    "shopping_dict = {'item-0': 'bread', 'item-1': 'potatoes', \n",
    "                 'item-2': 'eggs', 'item-3': 'flour', \n",
    "                 'item-4': 'rubber duck', 'item-5': 'pizza', \n",
    "                 'item-6': 'milk'}\n",
    "\n",
    "# iterate through each key and print its value\n",
    "\n",
    "# Hint: use the features .keys() .values() or .items()\n",
    "\n",
    "# print(shopping_dict.keys())\n",
    "# print(shopping_dict.values())\n",
    "# print(shopping_dict.items())\n"
   ]
  },
  {
   "cell_type": "markdown",
   "metadata": {},
   "source": [
    "## Exercise - 7"
   ]
  },
  {
   "cell_type": "code",
   "execution_count": null,
   "metadata": {
    "collapsed": true
   },
   "outputs": [],
   "source": [
    "shopping = ['bread', 'potatoes', \n",
    "            'eggs', 'flour', \n",
    "            'rubber duck', 'pizza', \n",
    "            'milk']\n",
    "extrashopping = ['cheese', 'flour', \n",
    "                 'eggs', 'spaghetti', \n",
    "                 'sausages', 'bread']\n",
    "# iterate through each item in the list extrashopping \n",
    "# if it is not in the list shopping then add it\n",
    "# print the new list shopping\n"
   ]
  },
  {
   "cell_type": "markdown",
   "metadata": {},
   "source": [
    "## Exercise - 8"
   ]
  },
  {
   "cell_type": "code",
   "execution_count": null,
   "metadata": {
    "collapsed": true
   },
   "outputs": [],
   "source": [
    "shopping = ['bread', 'potatoes', \n",
    "            'eggs', 'flour', \n",
    "            'rubber duck', 'pizza', \n",
    "            'milk']\n",
    "extrashopping = ['cheese', 'flour', \n",
    "                 'eggs', 'spaghetti', \n",
    "                 'sausages', 'bread']\n",
    "\n",
    "# Combining lists\n",
    "all_items = shopping + extrashopping\n",
    "\n",
    "# remove redundancy using set()\n",
    "unique_items = set(all_items)\n",
    "\n",
    "# iterate through unique_items and print each item\n",
    "...\n"
   ]
  },
  {
   "cell_type": "markdown",
   "metadata": {},
   "source": [
    "## Exercise - 9"
   ]
  },
  {
   "cell_type": "code",
   "execution_count": null,
   "metadata": {
    "collapsed": true
   },
   "outputs": [],
   "source": [
    "# (i) Change the program above to print out a message when a duplicate item is found. \n",
    "# To do this, you could add another if statement to see if the item is in the list. \n",
    "# Alternatively, you can add an else: clause to the existing if statement. \n",
    "# This will be executed when the condition in the if statement is false.\n"
   ]
  },
  {
   "cell_type": "markdown",
   "metadata": {},
   "source": [
    "(ii) The example illustrated above is not the only solution to adding items to a list, whilst checking for duplicates. From the three choices below, choose the version that would achieve the same goal:\n",
    "\n",
    "a)\n",
    "\n",
    "```\n",
    "shopping = ['bread', 'potatoes', \n",
    "            'eggs', 'flour', \n",
    "            'rubber duck', 'pizza', \n",
    "            'milk']\n",
    "extrashopping = ['cheese', 'flour', \n",
    "                 'eggs', 'spaghetti', \n",
    "                 'sausages', 'bread']\n",
    "for item in extrashopping:\n",
    "    if item not in shopping:   \n",
    "        print(item, \"is already in the list.\")\n",
    "    else: \n",
    "        shopping.append(item)\n",
    "print(shopping)\n",
    "```\n",
    "\n",
    "b)\n",
    "\n",
    "```\n",
    "shopping = ['bread', 'potatoes', \n",
    "            'eggs', 'flour', \n",
    "            'rubber duck', 'pizza', \n",
    "            'milk']\n",
    "extrashopping = ['cheese', 'flour', \n",
    "                 'eggs', 'spaghetti', \n",
    "                 'sausages', 'bread']\n",
    "for item in extrashopping:\n",
    "    if item in shopping:\n",
    "        shopping.append(item)\n",
    "    else: \n",
    "        print(item, \"is already in the list.\")\n",
    "print(shopping)\n",
    "```\n",
    "\n",
    "c)\n",
    "\n",
    "```\n",
    "shopping = ['bread', 'potatoes', \n",
    "            'eggs', 'flour', \n",
    "            'rubber duck', 'pizza', \n",
    "            'milk']\n",
    "extrashopping = ['cheese', 'flour', \n",
    "                 'eggs', 'spaghetti', \n",
    "                 'sausages', 'bread']\n",
    "for item in extrashopping:\n",
    "    if item in shopping:\n",
    "        print(item, \"is already in the list.\")\n",
    "    else: \n",
    "        shopping.append(item)\n",
    "print(shopping)\n",
    "```"
   ]
  },
  {
   "cell_type": "markdown",
   "metadata": {
    "collapsed": true
   },
   "source": [
    "## Exercise - 10"
   ]
  },
  {
   "cell_type": "code",
   "execution_count": null,
   "metadata": {
    "collapsed": true
   },
   "outputs": [],
   "source": [
    "''' In the example below, we have changed the program so it prints out a formatted message \n",
    "for each of the items in the shopping list along with the amount that needs to be bought \n",
    "of that item. Parts of the program are missing. You need to fill them in '''\n",
    "\n",
    "shopping = ['bread', 'potatoes', 'eggs', 'flour', 'rubber duck', 'pizza', 'milk']\n",
    "amounts = ['1', '10', '12', '1', '2', '5', '1']\n",
    "--- i in range(len(---)):\n",
    "    s = 'I need to buy --- ---'.format(amounts[---], ---[i])\n",
    "    print(---)"
   ]
  }
 ],
 "metadata": {
  "kernelspec": {
   "display_name": "Python 3",
   "language": "python",
   "name": "python3"
  },
  "language_info": {
   "codemirror_mode": {
    "name": "ipython",
    "version": 3
   },
   "file_extension": ".py",
   "mimetype": "text/x-python",
   "name": "python",
   "nbconvert_exporter": "python",
   "pygments_lexer": "ipython3",
   "version": "3.6.2"
  }
 },
 "nbformat": 4,
 "nbformat_minor": 0
}
