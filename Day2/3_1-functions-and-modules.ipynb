{
 "cells": [
  {
   "cell_type": "markdown",
   "metadata": {},
   "source": [
    "# Python session - 3.1\n",
    "\n",
    "## Functions and modules\n",
    "\n",
    "`Pandas` cheat sheet: https://github.com/pandas-dev/pandas/blob/master/doc/cheatsheet/Pandas_Cheat_Sheet.pdf\n",
    "\n",
    "Software Carpentry reference files: http://tobyhodges.github.io/python-novice-gapminder/"
   ]
  },
  {
   "cell_type": "markdown",
   "metadata": {
    "collapsed": true
   },
   "source": [
    "## Functions\n",
    "\n",
    "Functions are reusable blocks of code that you can name and execute any number of times from different parts of your script(s). This reuse is known as \"calling\" the function. Functions are important building blocks of a software.\n",
    "\n",
    "There are several built-in functions of Python, which can be called anywhere (and any number of times) in your current program. You have been using built-in functions already, for example, `len()`, `range()`, `sorted()`, `max()`, `min()`, `sum()` etc."
   ]
  },
  {
   "cell_type": "markdown",
   "metadata": {},
   "source": [
    "#### Structure of writing a function:\n",
    "\n",
    "- `def` (keyword) + function name (you choose) + `()`.\n",
    "- newline with 4 spaces or a tab +  block of code # Note: Codes at the 0 position are always read\n",
    "- Call your function using its name"
   ]
  },
  {
   "cell_type": "code",
   "execution_count": null,
   "metadata": {
    "collapsed": true
   },
   "outputs": [],
   "source": [
    "## Non parametric function\n",
    "# Define a function that prints a sum of number1 and number2 defined inside the function\n",
    "\n",
    "get_sum()"
   ]
  },
  {
   "cell_type": "code",
   "execution_count": null,
   "metadata": {
    "collapsed": false
   },
   "outputs": [],
   "source": [
    "# Parametric function\n",
    "# Define a function that prints a sum of number1 and number2 provided by the user\n",
    "# Hint: get_sum_param(number1, number2)\n"
   ]
  },
  {
   "cell_type": "code",
   "execution_count": null,
   "metadata": {
    "collapsed": false
   },
   "outputs": [],
   "source": [
    "# Returning values\n",
    "# Define a function that 'returns' a sum of number1 and number2 provided by the user\n",
    "# Hint: print(get_sum_param(number1, number2))\n"
   ]
  },
  {
   "cell_type": "code",
   "execution_count": null,
   "metadata": {
    "collapsed": false
   },
   "outputs": [],
   "source": [
    "# Local Vs. global variable\n",
    "\n",
    "# Define a function that returns a sum of number1 and number2 to a variable\n",
    "# and print it after calling the function\n",
    "# Hint: returned_value = get_sum_param(number1, number2)\n"
   ]
  },
  {
   "cell_type": "markdown",
   "metadata": {},
   "source": [
    "### Exercises: write old code into a function"
   ]
  },
  {
   "cell_type": "code",
   "execution_count": null,
   "metadata": {
    "collapsed": true
   },
   "outputs": [],
   "source": [
    "# Optional exercise\n",
    "# Let’s take one of our older code blocks and write it in a function\n"
   ]
  },
  {
   "cell_type": "markdown",
   "metadata": {},
   "source": [
    "### Libraries and Modules\n",
    "\n",
    "One of the great things about Python is the free availability of a _huge_ number of libraries (also called package) that can be imported into your code and (re)used. \n",
    "\n",
    "Modules contain functions for use by other programs and are developed with the aim of solving some particular problem or providing particular, often domain-specific, capabilities. A library is a collection of modules, but the terms are often used interchangeably, especially since many libraries only consist of a single module (so don’t worry if you mix them). \n",
    "\n",
    "In order to import a library, it must available on your system or should be installed.  \n",
    "\n",
    "A large number of libraries are already available for import in the standard distribution of Python: this is known as the standard library. If you installed the Anaconda distribution of Python, you have even more libraries already installed - mostly aimed at data science.\n",
    "\n",
    "Importing a library is easy:\n",
    "\n",
    "- Import (keyword) + library name, for example: \n",
    "    - `import os    # contains functions for interacting with the operating system`\n",
    "    - `import sys   # contains utilities to process command line arguments`\n",
    "\n",
    "More at: https://pypi.python.org/pypi"
   ]
  },
  {
   "cell_type": "code",
   "execution_count": null,
   "metadata": {
    "collapsed": false
   },
   "outputs": [],
   "source": [
    "import os\n",
    "\n",
    "# Get current directory\n",
    "\n",
    "# Make new directory\n",
    "\n",
    "help(os)                    # manual page created from the module's docstrings"
   ]
  },
  {
   "cell_type": "code",
   "execution_count": null,
   "metadata": {
    "collapsed": false
   },
   "outputs": [],
   "source": [
    "import sys\n",
    "\n",
    "# sys.argv"
   ]
  },
  {
   "cell_type": "markdown",
   "metadata": {},
   "source": [
    "### Using loops to iterate through files in a directory"
   ]
  },
  {
   "cell_type": "code",
   "execution_count": null,
   "metadata": {
    "collapsed": false
   },
   "outputs": [],
   "source": [
    "# define a function that lists all the files in the folder called data\n",
    "\n",
    "import os\n",
    "\n",
    "def read_each_filename(pathname):\n",
    "    ...\n",
    "    \n",
    "pathname = 'data' # name of path with multiple files"
   ]
  },
  {
   "cell_type": "code",
   "execution_count": null,
   "metadata": {
    "collapsed": false
   },
   "outputs": [],
   "source": [
    "# define a function that reads and prints each line of each file in the folder called data\n",
    "\n",
    "import os\n",
    "\n",
    "def read_each_line_of_each_file(pathname): # name of path with multiple files\n",
    "    ...\n",
    "pathname = 'data' # name of path with multiple files\n",
    "\n",
    "# Hints:\n",
    "# Options for opening files\n",
    "# option-1: with open(\"{}/{}\".format(pathname, filename)) as in_fh:\n",
    "# option-2: with open('%s/%s' % (pathname, filename)) as in_fh:\n",
    "# option-3: with open(pathname + '/' + filename) as in_fh:\n",
    "# option-4: with open(os.path.join(pathname, filename)) as in_fh:"
   ]
  },
  {
   "cell_type": "code",
   "execution_count": null,
   "metadata": {
    "collapsed": true
   },
   "outputs": [],
   "source": [
    "# Exercise: Go through each filename in the directory 'data'\n",
    "# Print the names of the files that contains the keyword 'asia'\n",
    "\n",
    "# Open each file containing the keyword 'Asia' and print all the entries\n",
    "\n",
    "# Print entries containing gdp information on 'Japan', 'Korea', 'China' and 'Taiwan'\n"
   ]
  },
  {
   "cell_type": "markdown",
   "metadata": {},
   "source": [
    "### Examples of importing basic modules.\n",
    "\n",
    "#### Questions\n",
    "- How can I read tabular data?\n",
    "\n",
    "#### Objectives\n",
    "- Import the Pandas library.\n",
    "- Use Pandas to load a simple CSV data set.\n",
    "- Get some basic information about a Pandas DataFrame."
   ]
  },
  {
   "cell_type": "code",
   "execution_count": null,
   "metadata": {
    "collapsed": false
   },
   "outputs": [],
   "source": [
    "import pandas"
   ]
  },
  {
   "cell_type": "code",
   "execution_count": null,
   "metadata": {
    "collapsed": false
   },
   "outputs": [],
   "source": [
    "# Use Oceania data here"
   ]
  },
  {
   "cell_type": "markdown",
   "metadata": {},
   "source": [
    "#### Aside: Namespaces\n",
    "Python uses namespaces a lot, to ensure appropriate separation of functions, attributes, methods etc between modules and objects. When you import an entire module, the functions and classes available within that module are loaded in under the modules namespace - `pandas` in the example above.  \n",
    "It is possible to customise the namespace at the point of import, allowing you to e.g. shorten/abbreviate the module name to save some typing:"
   ]
  },
  {
   "cell_type": "code",
   "execution_count": null,
   "metadata": {
    "collapsed": false
   },
   "outputs": [],
   "source": [
    "# import pandas as pd"
   ]
  },
  {
   "cell_type": "markdown",
   "metadata": {},
   "source": [
    "Also, as in the examples above, if you need only a single function from a module, you can import that directly into your main namespace (where you don't need to specify the module before the name of the function):"
   ]
  },
  {
   "cell_type": "code",
   "execution_count": null,
   "metadata": {
    "collapsed": false
   },
   "outputs": [],
   "source": [
    "# from pandas import read_csv"
   ]
  },
  {
   "cell_type": "markdown",
   "metadata": {},
   "source": [
    "#### Conventions\n",
    "- You should perform all of your imports at the beginning of your program. This ensures that\n",
    "  - users can easily identify the dependencies of a program, and \n",
    "  - that any lacking dependencies (causing fatal `ImportError` exceptions) are caught early in execution\n",
    "- the shortening of `numpy` to `np` and `pandas` to `pd` are very common, and there are others too - watch out for this when e.g. reading docs and guides/SO answers online."
   ]
  },
  {
   "cell_type": "markdown",
   "metadata": {},
   "source": [
    "### Execises - Importing\n",
    "\n",
    "Use this link to follow further exercises: http://tobyhodges.github.io/python-novice-gapminder/37-reading-tabular/"
   ]
  },
  {
   "cell_type": "code",
   "execution_count": null,
   "metadata": {
    "collapsed": true
   },
   "outputs": [],
   "source": [
    "# Use index_col to specify that a column’s values should be used as row headings.\n"
   ]
  },
  {
   "cell_type": "code",
   "execution_count": null,
   "metadata": {
    "collapsed": true
   },
   "outputs": [],
   "source": [
    "# Use DataFrame.info to find out more about a dataframe.\n"
   ]
  },
  {
   "cell_type": "code",
   "execution_count": null,
   "metadata": {
    "collapsed": true
   },
   "outputs": [],
   "source": [
    "# The DataFrame.columns variable stores information about the dataframe’s columns.\n"
   ]
  },
  {
   "cell_type": "code",
   "execution_count": null,
   "metadata": {
    "collapsed": true
   },
   "outputs": [],
   "source": [
    "# Use DataFrame.T to transpose a dataframe.\n"
   ]
  },
  {
   "cell_type": "code",
   "execution_count": null,
   "metadata": {
    "collapsed": true
   },
   "outputs": [],
   "source": [
    "# Use DataFrame.describe to get summary statistics about data.\n"
   ]
  },
  {
   "cell_type": "markdown",
   "metadata": {},
   "source": [
    "### Reading other data\n",
    "\n",
    "Read the data in `gapminder_gdp_americas.csv` (which should be in the same directory as `gapminder_gdp_oceania.csv`) into a variable called `americas` and display its summary statistics."
   ]
  },
  {
   "cell_type": "code",
   "execution_count": null,
   "metadata": {
    "collapsed": true
   },
   "outputs": [],
   "source": []
  },
  {
   "cell_type": "markdown",
   "metadata": {},
   "source": [
    "### Inspecting Data\n",
    "\n",
    "After reading the data for the Americas, use `help(americas.head)` and `help(americas.tail)` to find out what `DataFrame.head` and `DataFrame.tail` do.\n",
    "\n",
    "What method call will display the first three rows of this data?\n",
    "What method call will display the last three columns of this data? (Hint: you may need to change your view of the data.)"
   ]
  },
  {
   "cell_type": "code",
   "execution_count": null,
   "metadata": {
    "collapsed": true
   },
   "outputs": [],
   "source": []
  },
  {
   "cell_type": "markdown",
   "metadata": {},
   "source": [
    "### Reading Files in Other Directories\n",
    "\n",
    "The data for your current project is stored in a file called `microbes.csv`, which is located in a folder called `field_data`. You are doing analysis in a notebook called `analysis.ipynb` in a sibling folder called `thesis`:\n",
    "\n",
    "```\n",
    "your_home_directory\n",
    "+-- field_data/\n",
    "|   +-- microbes.csv\n",
    "+-- thesis/\n",
    "    +-- analysis.ipynb\n",
    "```\n",
    "\n",
    "What value(s) should you pass to `read_csv` to read `microbes.csv` in `analysis.ipynb`?"
   ]
  },
  {
   "cell_type": "code",
   "execution_count": null,
   "metadata": {
    "collapsed": true
   },
   "outputs": [],
   "source": []
  },
  {
   "cell_type": "markdown",
   "metadata": {},
   "source": [
    "### Writing data\n",
    "\n",
    "As well as the `read_csv` function for reading data from a file, Pandas provides a `to_csv` function to write dataframes to files. Applying what you’ve learned about reading from files, write one of your dataframes to a file called `processed.csv`. You can use help to get information on how to use `to_csv`."
   ]
  },
  {
   "cell_type": "code",
   "execution_count": null,
   "metadata": {
    "collapsed": true
   },
   "outputs": [],
   "source": []
  },
  {
   "cell_type": "markdown",
   "metadata": {},
   "source": [
    "#### Aside: Your Own Modules\n",
    "Whenever you write some python code and save it as a script, with the `.py` file extension, you are creating your own module. If you define functions within that module, you can load them into other scripts and sessions."
   ]
  },
  {
   "cell_type": "markdown",
   "metadata": {},
   "source": [
    "### Some Interesting Module Libraries to Investigate\n",
    "- os\n",
    "- sys\n",
    "- shutil\n",
    "- random\n",
    "- collections\n",
    "- math\n",
    "- argparse\n",
    "- time\n",
    "- datetime\n",
    "- numpy\n",
    "- scipy\n",
    "- matplotlib\n",
    "- pandas\n",
    "- scikit-learn\n",
    "- requests\n",
    "- biopython\n",
    "- openpyxl"
   ]
  },
  {
   "cell_type": "code",
   "execution_count": null,
   "metadata": {
    "collapsed": true
   },
   "outputs": [],
   "source": []
  }
 ],
 "metadata": {
  "kernelspec": {
   "display_name": "Python 3",
   "language": "python",
   "name": "python3"
  },
  "language_info": {
   "codemirror_mode": {
    "name": "ipython",
    "version": 3
   },
   "file_extension": ".py",
   "mimetype": "text/x-python",
   "name": "python",
   "nbconvert_exporter": "python",
   "pygments_lexer": "ipython3",
   "version": "3.6.0"
  }
 },
 "nbformat": 4,
 "nbformat_minor": 0
}
