{
 "cells": [
  {
   "cell_type": "markdown",
   "metadata": {},
   "source": [
    "# Python session - 3.4\n",
    "\n",
    "#### Questions\n",
    "- How can I make my programs more readable?\n",
    "- How do most programmers format their code?\n",
    "- How can programs check their own operation?\n",
    "\n",
    "#### Objectives\n",
    "- Provide sound justifications for basic rules of coding style.\n",
    "- Refactor one-page programs to make them more readable and justify the changes.\n",
    "- Use Python community coding standards (PEP-8).\n",
    "\n",
    "http://tobyhodges.github.io/python-novice-gapminder/48-style/"
   ]
  },
  {
   "cell_type": "markdown",
   "metadata": {},
   "source": [
    "#### Coding style\n",
    "\n",
    "- Coding style helps us to understand the code better. It helps to maintain and change the code. Python relies strongly on coding style, as we may notice by the indentation we apply to lines to define different blocks of code. Python proposes a standard style through one of its first Python Enhancement Proposals (PEP), PEP8, and highlight the importance of readability in the Zen of Python.\n",
    "\n",
    "- We may highlight some points:\n",
    "    - document your code\n",
    "    - use clear, meaningful variable names\n",
    "    - use white-space, not tabs, to indent lines"
   ]
  },
  {
   "cell_type": "markdown",
   "metadata": {},
   "source": [
    "#### Follow standard Python style in your code.\n",
    "\n",
    "- [PEP8](https://www.python.org/dev/peps/pep-0008/): a style guide for Python that discusses topics such as how you should name variables, how you should use indentation in your code, how you should structure your import statements, etc. Adhering to PEP8 makes it easier for other Python developers to read and understand your code, and to understand what their contributions should look like. The [PEP8 application and Python library](https://pypi.python.org/pypi/pep8) can check your code for compliance with PEP8.\n",
    "- [Google style guide on Python](https://google.github.io/styleguide/pyguide.html) supports the use of PEP8 and extends the coding style to more specific structure of Python code, which may be interesting also to follow."
   ]
  },
  {
   "cell_type": "markdown",
   "metadata": {},
   "source": [
    "#### Use docstrings to provide help.\n",
    "\n",
    "Annotate your codes so others can read and understand what your code is doing.\n",
    "\n",
    "If the first thing in a function is a character string that is not assigned to a variable, Python attaches it to the function as the available help.\n",
    "Called a docstring (short for “documentation string”)."
   ]
  },
  {
   "cell_type": "code",
   "execution_count": 1,
   "metadata": {
    "collapsed": false
   },
   "outputs": [
    {
     "data": {
      "text/plain": [
       "' \\nThis is a Docstring. \\nThis script gives its opinion on weather.\\n'"
      ]
     },
     "execution_count": 1,
     "metadata": {},
     "output_type": "execute_result"
    }
   ],
   "source": [
    "\"\"\" \n",
    "This is a Docstring. \n",
    "This script gives its opinion on weather.\n",
    "\"\"\""
   ]
  },
  {
   "cell_type": "code",
   "execution_count": null,
   "metadata": {
    "collapsed": true
   },
   "outputs": [],
   "source": [
    "# tab, newline ..."
   ]
  },
  {
   "cell_type": "code",
   "execution_count": 8,
   "metadata": {
    "collapsed": false
   },
   "outputs": [
    {
     "name": "stdout",
     "output_type": "stream",
     "text": [
      "Help on function average in module __main__:\n",
      "\n",
      "average(values)\n",
      "    Return average of values, or None if no values are supplied.\n",
      "\n"
     ]
    }
   ],
   "source": [
    "def average(values):\n",
    "    \"Return average of values, or None if no values are supplied.\"\n",
    "\n",
    "    if len(values) == 0:\n",
    "        return None\n",
    "    return sum(values) / average(values)\n",
    "\n",
    "help(average)"
   ]
  },
  {
   "cell_type": "markdown",
   "metadata": {},
   "source": [
    "#### Check more looping exercises in association with module importing\n",
    "\n",
    "http://tobyhodges.github.io/python-novice-gapminder/43-looping-data-sets/"
   ]
  },
  {
   "cell_type": "markdown",
   "metadata": {},
   "source": [
    "#### Re-learn the scope of variables and try a few more related exercises\n",
    "\n",
    "https://swcarpentry.github.io/python-novice-gapminder/15-scope/"
   ]
  },
  {
   "cell_type": "markdown",
   "metadata": {},
   "source": [
    "## Running python scripts from the command line"
   ]
  },
  {
   "cell_type": "markdown",
   "metadata": {},
   "source": [
    "![](images/python_cli.png)"
   ]
  },
  {
   "cell_type": "markdown",
   "metadata": {},
   "source": [
    "## Command line argument handling"
   ]
  },
  {
   "cell_type": "code",
   "execution_count": 5,
   "metadata": {
    "collapsed": false
   },
   "outputs": [
    {
     "data": {
      "text/plain": [
       "_StoreAction(option_strings=[], dest='input_file', nargs=1, const=None, default=None, type=<class 'str'>, choices=None, help='an input file', metavar=None)"
      ]
     },
     "execution_count": 5,
     "metadata": {},
     "output_type": "execute_result"
    }
   ],
   "source": [
    "# sys.argv\n",
    "from sys import argv\n",
    "\n",
    "command_line_arguments = argv[1:]\n",
    "program_name = argv[0]\n",
    "\n",
    "# argparse module\n",
    "from argparse import ArgumentParser\n",
    "\n",
    "parser = ArgumentParser()\n",
    "parser.add_argument('input_file', nargs=1, help='an input file', type=str)"
   ]
  },
  {
   "cell_type": "markdown",
   "metadata": {},
   "source": [
    "## Debugging exercise\n",
    "\n",
    "[This repository](https://github.com/tobyhodges/debugging-and-style) contains a script - `script1.py` - that has been written to calculate statistics about DNA sequences described in a FASTA file.\n",
    "\n",
    "Before you look at the sequence files in this repository, look at the script and discuss:\n",
    "- How easy is it to understand what the script does?\n",
    "- How robust is the script?\n",
    "- Does it follow good coding standards?\n",
    "- Does it do what it is supposed to?\n",
    "- What problems can you foresee, if the script were to be shared with others or applied to a different sequence file?\n",
    "\n",
    "Let's try to improve this script as a group. Our aim is to turn it into something that is\n",
    "- robust\n",
    "- portable\n",
    "- shareable\n",
    "- easy to maintain/adapt\n",
    "- doing what it is supposed to do!"
   ]
  },
  {
   "cell_type": "markdown",
   "metadata": {},
   "source": [
    "## Flow chart problems"
   ]
  },
  {
   "cell_type": "markdown",
   "metadata": {},
   "source": [
    "## Exercise - 1\n",
    "\n",
    "Translate this flow chart into Python code.\n",
    "Start, get user's name\n",
    "check if the name is Rowan (if true, ask for password else print \"Access denied\")\n",
    "if the password is correct write 'welcome' else print 'incorrect'\n",
    "\n",
    "![alice](images/if_flow_chart.png)"
   ]
  },
  {
   "cell_type": "code",
   "execution_count": null,
   "metadata": {
    "collapsed": true
   },
   "outputs": [],
   "source": []
  },
  {
   "cell_type": "markdown",
   "metadata": {},
   "source": [
    "## Exercise - 2\n",
    "\n",
    "Use `input()` (or `sys.argv[1]` in commandline) to supply a name to your python script that says 'Hi' only to Alice as shown in the flow chart below.\n",
    "![alice](images/alice.jpg)"
   ]
  },
  {
   "cell_type": "code",
   "execution_count": null,
   "metadata": {
    "collapsed": false
   },
   "outputs": [],
   "source": []
  },
  {
   "cell_type": "markdown",
   "metadata": {},
   "source": [
    "## Exercise - 3\n",
    "\n",
    "Here is a flowchart that tells you what to do if it is raining. Transfer this functionality to a Python function.\n",
    "\n",
    "![rain_fc](images/rain_fc.jpg)"
   ]
  },
  {
   "cell_type": "code",
   "execution_count": null,
   "metadata": {
    "collapsed": true
   },
   "outputs": [],
   "source": []
  },
  {
   "cell_type": "markdown",
   "metadata": {
    "collapsed": true
   },
   "source": [
    "## Exercise - 4\n",
    "\n",
    "Adapted from: http://usingpython.com/python-for-loop/\n",
    "![for_loop_fc](images/for_loop_fc.png)"
   ]
  },
  {
   "cell_type": "code",
   "execution_count": null,
   "metadata": {
    "collapsed": false
   },
   "outputs": [],
   "source": [
    "#1. start: set initial value of total_score to 0\n",
    "total_score = 0\n",
    "\n",
    "#2. Create a vovel list\n",
    "vowels = [---]\n",
    "\n",
    "#3. Ask player's name\n",
    "name = input(\"Please enter your name\\n\")\n",
    "\n",
    "#4. Is there a character to check (for loop)\n",
    "for chars in name:\n",
    "    #4. If the character vowel subtract 1 score\n",
    "    #else add 1\n",
    "    if chars in vowels:\n",
    "        ---\n",
    "    else:\n",
    "        ---\n",
    "#5. Print total score\n",
    "print(---)"
   ]
  }
 ],
 "metadata": {
  "kernelspec": {
   "display_name": "Python 3",
   "language": "python",
   "name": "python3"
  },
  "language_info": {
   "codemirror_mode": {
    "name": "ipython",
    "version": 3
   },
   "file_extension": ".py",
   "mimetype": "text/x-python",
   "name": "python",
   "nbconvert_exporter": "python",
   "pygments_lexer": "ipython3",
   "version": "3.6.2"
  }
 },
 "nbformat": 4,
 "nbformat_minor": 0
}
