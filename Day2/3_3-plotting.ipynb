{
 "cells": [
  {
   "cell_type": "markdown",
   "metadata": {},
   "source": [
    "# Python session - 3.3\n",
    "\n",
    "## Plotting\n",
    "\n",
    "http://tobyhodges.github.io/python-novice-gapminder/39-plotting/\n",
    "\n",
    "#### Questions\n",
    "- How can I plot my data?\n",
    "\n",
    "#### Objectives\n",
    "- Create a time series plot showing a single data set.\n",
    "- Create a scatter plot showing relationship between two data sets."
   ]
  },
  {
   "cell_type": "markdown",
   "metadata": {},
   "source": [
    "#### `matplotlib` is the most widely used scientific plotting library in Python.\n",
    "\n",
    "- Commonly use a sub-library called `matplotlib.pyplot`.\n",
    "- The Jupyter Notebook will render plots inline if we ask it to using a “magic” command."
   ]
  },
  {
   "cell_type": "code",
   "execution_count": null,
   "metadata": {
    "collapsed": true
   },
   "outputs": [],
   "source": [
    "%matplotlib inline\n",
    "import matplotlib.pyplot as plt"
   ]
  },
  {
   "cell_type": "code",
   "execution_count": null,
   "metadata": {
    "collapsed": false
   },
   "outputs": [],
   "source": [
    "# Simple plots are then (fairly) simple to create.\n",
    "\n",
    "x = [1, 2, 3, 4, 5]\n",
    "y = [2, 4, 6, 8, 10]\n",
    "\n",
    "# Plot\n",
    "\n",
    "# Label"
   ]
  },
  {
   "cell_type": "markdown",
   "metadata": {},
   "source": [
    "#### Plot data directly from a Pandas `DataFrame`.\n",
    "\n",
    "- We can also plot Pandas dataframes.\n",
    "- This implicitly uses `matplotlib.pyplot`."
   ]
  },
  {
   "cell_type": "code",
   "execution_count": null,
   "metadata": {
    "collapsed": false
   },
   "outputs": [],
   "source": [
    "import pandas\n",
    "\n",
    "# read file\n",
    "\n",
    "# Plot for asutralia data\n",
    "\n",
    "# Tick rotation"
   ]
  },
  {
   "cell_type": "markdown",
   "metadata": {},
   "source": [
    "#### Select and transform data, then plot it.\n",
    "\n",
    "- By default, `DataFrame.plot` plots with the rows as the X axis.\n",
    "- We can transpose the data in order to plot multiple series."
   ]
  },
  {
   "cell_type": "code",
   "execution_count": null,
   "metadata": {
    "collapsed": false
   },
   "outputs": [],
   "source": [
    "# Y label"
   ]
  },
  {
   "cell_type": "markdown",
   "metadata": {},
   "source": [
    "#### Many styles of plot are available.\n",
    "\n",
    "- For example, do a bar plot using a fancier style."
   ]
  },
  {
   "cell_type": "code",
   "execution_count": null,
   "metadata": {
    "collapsed": false
   },
   "outputs": [],
   "source": [
    "plt.style.use('ggplot')\n",
    "\n",
    "data.T.plot(kind='bar')\n",
    "\n",
    "plt.xticks(rotation=90)\n",
    "\n",
    "plt.ylabel('GDP per capita')"
   ]
  },
  {
   "cell_type": "markdown",
   "metadata": {},
   "source": [
    "- Extract years from the last four characters of the columns’ names.\n",
    "- Store these in a list using the Accumulator pattern.\n",
    "- Can also convert dataframe data to a list."
   ]
  },
  {
   "cell_type": "code",
   "execution_count": null,
   "metadata": {
    "collapsed": false
   },
   "outputs": [],
   "source": [
    "# Accumulator pattern to collect years (as character strings).\n",
    "\n",
    "\n",
    "# Australia data as list.\n",
    "\n",
    "\n",
    "# Plot: 'b-' sets the line style.\n"
   ]
  },
  {
   "cell_type": "code",
   "execution_count": null,
   "metadata": {
    "collapsed": false
   },
   "outputs": [],
   "source": [
    "#### Can plot many sets of data together.\n",
    "\n",
    "# Accumulator pattern to collect years (as character strings).\n",
    "\n",
    "# Select two countries' worth of data.\n",
    "\n",
    "\n",
    "# Plot with differently-colored markers.\n",
    "\n",
    "\n",
    "# Create legend\n"
   ]
  },
  {
   "cell_type": "markdown",
   "metadata": {},
   "source": [
    "- Plot a scatter plot correlating the GDP of Australia and New Zealand\n",
    "- Use either `plt.scatter` or `DataFrame.plot.scatter`"
   ]
  },
  {
   "cell_type": "code",
   "execution_count": null,
   "metadata": {
    "collapsed": false
   },
   "outputs": [],
   "source": []
  },
  {
   "cell_type": "code",
   "execution_count": null,
   "metadata": {
    "collapsed": false
   },
   "outputs": [],
   "source": []
  },
  {
   "cell_type": "markdown",
   "metadata": {},
   "source": [
    "#### Exercise - Minima and Maxima\n",
    "\n",
    "Fill in the blanks below to plot the minimum GDP per capita over time for all the countries in Europe. Modify it again to plot the maximum GDP per capita over time for Europe."
   ]
  },
  {
   "cell_type": "code",
   "execution_count": null,
   "metadata": {
    "collapsed": false
   },
   "outputs": [],
   "source": [
    "data_europe = pandas.read_csv('data/gapminder_gdp_europe.csv', index_col='country')\n",
    "data_europe.____.plot(label='min')\n",
    "data_europe.____\n",
    "plt.legend(loc='best')\n",
    "plt.xticks(rotation=90)"
   ]
  },
  {
   "cell_type": "markdown",
   "metadata": {},
   "source": [
    "#### Exercise - Correlations\n",
    "\n",
    "Modify the example in the notes to create a scatter plot showing the relationship between the minimum and maximum GDP per capita among the countries in Asia for each year in the data set. What relationship do you see (if any)?\n",
    "\n",
    "No particular correlations can be seen between the minimum and maximum gdp values year on year. It seems the fortunes of asian countries do not rise and fall together."
   ]
  },
  {
   "cell_type": "code",
   "execution_count": null,
   "metadata": {
    "collapsed": false
   },
   "outputs": [],
   "source": [
    "data_asia = pandas.read_csv('data/gapminder_gdp_asia.csv', index_col='country')\n"
   ]
  },
  {
   "cell_type": "code",
   "execution_count": null,
   "metadata": {
    "collapsed": false
   },
   "outputs": [],
   "source": [
    "data_asia = pandas.read_csv('data/gapminder_gdp_asia.csv', index_col='country')\n"
   ]
  },
  {
   "cell_type": "code",
   "execution_count": null,
   "metadata": {
    "collapsed": false
   },
   "outputs": [],
   "source": [
    "data_all = pandas.read_csv('data/gapminder_all.csv', index_col='country')\n"
   ]
  },
  {
   "cell_type": "markdown",
   "metadata": {},
   "source": [
    "#### Using online help and other resources, explain what each argument to plot does."
   ]
  },
  {
   "cell_type": "markdown",
   "metadata": {},
   "source": [
    "### Keypoints\n",
    "\n",
    "- `matplotlib` is the most widely used scientific plotting library in Python.\n",
    "- Plot data directly from a Pandas `DataFrame`.\n",
    "- Select and transform data, then plot it.\n",
    "- Many styles of plot are available.\n",
    "- Can plot many sets of data together."
   ]
  }
 ],
 "metadata": {
  "kernelspec": {
   "display_name": "Python 3",
   "language": "python",
   "name": "python3"
  },
  "language_info": {
   "codemirror_mode": {
    "name": "ipython",
    "version": 3
   },
   "file_extension": ".py",
   "mimetype": "text/x-python",
   "name": "python",
   "nbconvert_exporter": "python",
   "pygments_lexer": "ipython3",
   "version": "3.6.0"
  }
 },
 "nbformat": 4,
 "nbformat_minor": 2
}
