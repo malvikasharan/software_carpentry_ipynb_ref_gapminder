{
 "cells": [
  {
   "cell_type": "markdown",
   "metadata": {},
   "source": [
    "# Python session - 3.2\n",
    "\n",
    "## Pandas DataFrames\n",
    "\n",
    "https://swcarpentry.github.io/python-novice-gapminder/08-data-frames/\n",
    "\n",
    "#### Questions\n",
    "- How can I do statistical analysis of tabular data?\n",
    "\n",
    "#### Objectives\n",
    "- Select individual values from a Pandas dataframe.\n",
    "- Select entire rows or entire columns from a dataframe.\n",
    "- Select a subset of both rows and columns from a dataframe in a single operation.\n",
    "- Select a subset of a dataframe by a single Boolean criterion."
   ]
  },
  {
   "cell_type": "markdown",
   "metadata": {},
   "source": [
    "#### First note about Pandas DataFrames/Series\n",
    "\n",
    "A `DataFrame` is a collection of `Series`; The `DataFrame` is the way Pandas represents a table, and `Series` is the data-structure Pandas uses to represent a column.\n",
    "\n",
    "Pandas is built on top of the Numpy library, which in practice means that most of the methods defined for Numpy's Arrays apply to Pandas' `Series`/`DataFrames`.\n",
    "\n",
    "What makes Pandas so attractive is the powerful interface to access individual records of the table, proper handling of missing values, and relational-databases operations between `DataFrames`."
   ]
  },
  {
   "cell_type": "markdown",
   "metadata": {},
   "source": [
    "#### Use `DataFrame.iloc[..., ...]` to select values by numerical index\n",
    "\n",
    "Can specify location by numerical index analogously to 2D version of character selection in strings."
   ]
  },
  {
   "cell_type": "code",
   "execution_count": null,
   "metadata": {
    "collapsed": false
   },
   "outputs": [],
   "source": [
    "import pandas\n",
    "\n",
    "#Hints:\n",
    "#index_col='country'\n",
    "#data.iloc[0, 0]"
   ]
  },
  {
   "cell_type": "markdown",
   "metadata": {},
   "source": [
    "#### Use `DataFrame.loc[..., ...]` to select values by names.\n",
    "\n",
    "Can specify location by row name analogously to 2D version of dictionary keys."
   ]
  },
  {
   "cell_type": "code",
   "execution_count": null,
   "metadata": {
    "collapsed": false
   },
   "outputs": [],
   "source": [
    "# data.loc[\"Albania\", \"gdpPercap_1952\"]"
   ]
  },
  {
   "cell_type": "markdown",
   "metadata": {},
   "source": [
    "#### Use `:` on its own to mean all columns or all rows.\n",
    "\n",
    "Just like Python’s usual slicing notation."
   ]
  },
  {
   "cell_type": "code",
   "execution_count": null,
   "metadata": {
    "collapsed": false
   },
   "outputs": [],
   "source": [
    "# Slice by \"Albania\", :"
   ]
  },
  {
   "cell_type": "code",
   "execution_count": null,
   "metadata": {
    "collapsed": true
   },
   "outputs": [],
   "source": [
    "# Would get the same result printing data.loc[\"Albania\"] (without a second index)."
   ]
  },
  {
   "cell_type": "code",
   "execution_count": null,
   "metadata": {
    "collapsed": true
   },
   "outputs": [],
   "source": [
    "# Would get the same result printing data[\"gdpPercap_1952\"]\n",
    "\n",
    "# Also get the same result printing data.gdpPercap_1952 (since it’s a column name)"
   ]
  },
  {
   "cell_type": "markdown",
   "metadata": {},
   "source": [
    "#### Select multiple columns or rows using `DataFrame.loc` and a named slice"
   ]
  },
  {
   "cell_type": "code",
   "execution_count": null,
   "metadata": {
    "collapsed": false
   },
   "outputs": [],
   "source": []
  },
  {
   "cell_type": "markdown",
   "metadata": {},
   "source": [
    "In the above code, we discover that slicing using loc is inclusive at both ends, which differs from slicing using iloc, where slicing indicates everything up to but not including the final index."
   ]
  },
  {
   "cell_type": "markdown",
   "metadata": {},
   "source": [
    "#### Result of slicing can be used in further operations\n",
    "\n",
    "- Usually don’t just print a slice.\n",
    "- All the statistical operators that work on entire dataframes work the same way on slices.\n",
    "    - E.g., calculate max of a slice."
   ]
  },
  {
   "cell_type": "code",
   "execution_count": null,
   "metadata": {
    "collapsed": false
   },
   "outputs": [],
   "source": []
  },
  {
   "cell_type": "code",
   "execution_count": null,
   "metadata": {
    "collapsed": false
   },
   "outputs": [],
   "source": []
  },
  {
   "cell_type": "markdown",
   "metadata": {},
   "source": [
    "#### Use comparisons to select data based on value\n",
    "\n",
    "- Comparison is applied element by element.\n",
    "- Returns a similarly-shaped dataframe of True and False."
   ]
  },
  {
   "cell_type": "code",
   "execution_count": null,
   "metadata": {
    "collapsed": false
   },
   "outputs": [],
   "source": [
    "# Use a subset of data to keep output readable.\n",
    "\n",
    "# Which values were greater than 10000 ?\n"
   ]
  },
  {
   "cell_type": "markdown",
   "metadata": {},
   "source": [
    "#### Select values or NaN using a Boolean mask.\n",
    "\n",
    "- A frame full of Booleans is sometimes called a mask because of how it can be used."
   ]
  },
  {
   "cell_type": "code",
   "execution_count": null,
   "metadata": {
    "collapsed": false
   },
   "outputs": [],
   "source": []
  },
  {
   "cell_type": "markdown",
   "metadata": {},
   "source": [
    "- Get the value where the mask is true, and NaN (Not a Number) where it is false.\n",
    "- Useful because NaNs are ignored by operations like max, min, average, etc."
   ]
  },
  {
   "cell_type": "code",
   "execution_count": null,
   "metadata": {
    "collapsed": false
   },
   "outputs": [],
   "source": []
  },
  {
   "cell_type": "markdown",
   "metadata": {},
   "source": [
    "#### Exercise - Selection of Individual Values\n",
    "\n",
    "Assume Pandas has been imported into your notebook and the Gapminder GDP data for Europe has been loaded:"
   ]
  },
  {
   "cell_type": "code",
   "execution_count": 1,
   "metadata": {
    "collapsed": true
   },
   "outputs": [],
   "source": [
    "import pandas\n",
    "\n",
    "df = pandas.read_csv('data/gapminder_gdp_europe.csv', index_col='country')"
   ]
  },
  {
   "cell_type": "markdown",
   "metadata": {},
   "source": [
    "Write an expression to find the Per Capita GDP of Serbia in 2007."
   ]
  },
  {
   "cell_type": "code",
   "execution_count": null,
   "metadata": {
    "collapsed": true
   },
   "outputs": [],
   "source": []
  },
  {
   "cell_type": "markdown",
   "metadata": {},
   "source": [
    "#### Exercise - Extent of Slicing\n",
    "\n",
    "- Do the two statements below produce the same output?\n",
    "- Based on this, what rule governs what is included (or not) in numerical slices and named slices in Pandas?"
   ]
  },
  {
   "cell_type": "markdown",
   "metadata": {
    "collapsed": false
   },
   "source": [
    "```Python\n",
    "print(data.iloc[0:2, 0:2])\n",
    "print(data.loc['Albania':'Belgium', 'gdpPercap_1952':'gdpPercap_1962'])\n",
    "```"
   ]
  },
  {
   "cell_type": "markdown",
   "metadata": {},
   "source": [
    "#### Exercise -Reconstructing Data\n",
    "\n",
    "- Explain what each line in the following short program does: what is in first, second, etc.?"
   ]
  },
  {
   "cell_type": "code",
   "execution_count": null,
   "metadata": {
    "collapsed": true
   },
   "outputs": [],
   "source": [
    "first = pandas.read_csv('data/gapminder_gdp_all.csv', index_col='country')\n",
    "second = first[first['continent'] == 'Americas']\n",
    "third = second.drop('Puerto Rico')\n",
    "fourth = third.drop('continent', axis = 1)\n",
    "fourth.to_csv('result.csv')"
   ]
  },
  {
   "cell_type": "markdown",
   "metadata": {},
   "source": [
    "#### Exercise - Selecting Indices\n",
    "\n",
    "Explain in simple terms what `idxmin` and `idxmax` do in the short program below. When would you use these methods?"
   ]
  },
  {
   "cell_type": "code",
   "execution_count": null,
   "metadata": {
    "collapsed": false
   },
   "outputs": [],
   "source": [
    "data = pandas.read_csv('data/gapminder_gdp_europe.csv', index_col='country')\n",
    "print(data.idxmin())\n",
    "print(data.idxmax())"
   ]
  },
  {
   "cell_type": "markdown",
   "metadata": {},
   "source": [
    "#### Practice with Selection\n",
    "\n",
    "Assume Pandas has been imported and the Gapminder GDP data for Europe has been loaded. Write an expression to select each of the following:\n",
    "\n",
    "- GDP per capita for all countries in 1982.\n",
    "- GDP per capita for Denmark for all years.\n",
    "- GDP per capita for all countries for years after 1985.\n",
    "- GDP per capita for each country in 2007 as a multiple of GDP per capita for that country in 1952."
   ]
  },
  {
   "cell_type": "code",
   "execution_count": null,
   "metadata": {
    "collapsed": true
   },
   "outputs": [],
   "source": []
  },
  {
   "cell_type": "markdown",
   "metadata": {},
   "source": [
    "### Keypoints\n",
    "\n",
    "- Use `DataFrame.iloc[..., ...]` to select values by integer location.\n",
    "- Use `:` on its own to mean all columns or all rows.\n",
    "- Select multiple columns or rows using `DataFrame.loc` and a named slice.\n",
    "- Result of slicing can be used in further operations.\n",
    "- Use comparisons to select data based on value.\n",
    "- Select values or NaN using a Boolean mask."
   ]
  }
 ],
 "metadata": {
  "kernelspec": {
   "display_name": "Python 3",
   "language": "python",
   "name": "python3"
  },
  "language_info": {
   "codemirror_mode": {
    "name": "ipython",
    "version": 3
   },
   "file_extension": ".py",
   "mimetype": "text/x-python",
   "name": "python",
   "nbconvert_exporter": "python",
   "pygments_lexer": "ipython3",
   "version": "3.6.0"
  }
 },
 "nbformat": 4,
 "nbformat_minor": 2
}
